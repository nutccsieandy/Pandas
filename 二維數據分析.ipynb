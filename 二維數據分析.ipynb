{
  "nbformat": 4,
  "nbformat_minor": 0,
  "metadata": {
    "colab": {
      "provenance": []
    },
    "kernelspec": {
      "name": "python3",
      "display_name": "Python 3"
    },
    "language_info": {
      "name": "python"
    }
  },
  "cells": [
    {
      "cell_type": "code",
      "execution_count": null,
      "metadata": {
        "colab": {
          "base_uri": "https://localhost:8080/"
        },
        "id": "-6mtcqajQ6by",
        "outputId": "fd419ade-a320-48ac-d9bd-a61dd8640cc6"
      },
      "outputs": [
        {
          "output_type": "stream",
          "name": "stdout",
          "text": [
            "Requirement already satisfied: numpy in /usr/local/lib/python3.7/dist-packages (1.21.5)\n"
          ]
        }
      ],
      "source": [
        "!pip install numpy"
      ]
    },
    {
      "cell_type": "code",
      "source": [
        "!pip install matplotlib"
      ],
      "metadata": {
        "colab": {
          "base_uri": "https://localhost:8080/"
        },
        "id": "qyk95w5ORC4A",
        "outputId": "601d37df-39b9-4a1b-d3cb-071d131b3e4e"
      },
      "execution_count": null,
      "outputs": [
        {
          "output_type": "stream",
          "name": "stdout",
          "text": [
            "Requirement already satisfied: matplotlib in /usr/local/lib/python3.7/dist-packages (3.2.2)\n",
            "Requirement already satisfied: numpy>=1.11 in /usr/local/lib/python3.7/dist-packages (from matplotlib) (1.21.5)\n",
            "Requirement already satisfied: kiwisolver>=1.0.1 in /usr/local/lib/python3.7/dist-packages (from matplotlib) (1.3.2)\n",
            "Requirement already satisfied: pyparsing!=2.0.4,!=2.1.2,!=2.1.6,>=2.0.1 in /usr/local/lib/python3.7/dist-packages (from matplotlib) (3.0.7)\n",
            "Requirement already satisfied: python-dateutil>=2.1 in /usr/local/lib/python3.7/dist-packages (from matplotlib) (2.8.2)\n",
            "Requirement already satisfied: cycler>=0.10 in /usr/local/lib/python3.7/dist-packages (from matplotlib) (0.11.0)\n",
            "Requirement already satisfied: six>=1.5 in /usr/local/lib/python3.7/dist-packages (from python-dateutil>=2.1->matplotlib) (1.15.0)\n"
          ]
        }
      ]
    },
    {
      "cell_type": "code",
      "source": [
        "import numpy as np"
      ],
      "metadata": {
        "id": "80JHuuqFStK_"
      },
      "execution_count": null,
      "outputs": []
    },
    {
      "cell_type": "code",
      "source": [
        "print(\"輸入資料時 中間不用空格(個筆資料僅限一個位數)\")\n",
        "print(\"請輸入資料X:\")\n",
        "x=list(input())\n",
        "print(\"請輸入資料Y:\")\n",
        "y=list(input())\n",
        "ls1=len(x)\n",
        "ls2=len(y)\n",
        "t1=[]\n",
        "t2=[]\n",
        "for i in range(ls1):\n",
        "  g1=int(x[i])\n",
        "  t1.append(g1)\n",
        "for j in range(ls2):\n",
        "  g2=int(y[j])\n",
        "  t2.append(g2)\n",
        "s1=np.array(t1)\n",
        "s2=np.array(t2)\n",
        "print(s1)\n",
        "print(s2)\n",
        "as1=np.std(s1,axis=0)#x的標準差\n",
        "as2=np.std(s2,axis=0)#y的標準差\n",
        "rs1=ls1*as1*as2#相關係數的分母\n",
        "m1=np.mean(s1,axis=0)#x的平均\n",
        "print(\"x的平均:\",m1)\n",
        "m2=np.mean(s1,axis=0)#y的平均\n",
        "print(\"y的平均:\",m2)\n",
        "ac1=int(m1)\n",
        "ac2=int(m2)\n",
        "m2=np.mean(s1,axis=0)#y的平均\n",
        "if(ls1==ls2):#相關係數的分子\n",
        "  sum=0\n",
        "  for i in range(ls1):\n",
        "    a=int(x[i])\n",
        "    b=int(y[i])\n",
        "    tc1=a-m1\n",
        "    tc2=b-m2\n",
        "    sum+=tc1*tc2\n",
        "else:\n",
        "  pass\n",
        "rs1=ls1*as1*as2\n",
        "rs2=sum/rs1\n",
        "print(\"x的標準差:\",as1)\n",
        "print(\"y的標準差:\",as2)\n",
        "print(\"相關係數:\",rs2)"
      ],
      "metadata": {
        "colab": {
          "base_uri": "https://localhost:8080/"
        },
        "id": "6rMYvCaLRHXf",
        "outputId": "9b9d764e-da6c-4d8c-ed9b-30c7ae1c8816"
      },
      "execution_count": null,
      "outputs": [
        {
          "output_type": "stream",
          "name": "stdout",
          "text": [
            "輸入資料時 中間不用空格(個筆資料僅限一個位數)\n",
            "請輸入資料X:\n",
            "12345\n",
            "請輸入資料Y:\n",
            "12345\n",
            "[1 2 3 4 5]\n",
            "[1 2 3 4 5]\n",
            "x的平均: 3.0\n",
            "y的平均: 3.0\n",
            "x的標準差: 1.4142135623730951\n",
            "y的標準差: 1.4142135623730951\n",
            "相關係數: 0.9999999999999998\n"
          ]
        }
      ]
    }
  ]
}