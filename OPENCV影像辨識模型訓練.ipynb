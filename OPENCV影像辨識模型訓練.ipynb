{
  "nbformat": 4,
  "nbformat_minor": 0,
  "metadata": {
    "colab": {
      "provenance": []
    },
    "kernelspec": {
      "name": "python3",
      "display_name": "Python 3"
    },
    "language_info": {
      "name": "python"
    }
  },
  "cells": [
    {
      "cell_type": "code",
      "execution_count": null,
      "metadata": {
        "colab": {
          "base_uri": "https://localhost:8080/"
        },
        "id": "A43O5qj0tsKB",
        "outputId": "7cf306d4-87eb-4470-b1d9-8e3398f726ba"
      },
      "outputs": [
        {
          "output_type": "stream",
          "name": "stdout",
          "text": [
            "Looking in indexes: https://pypi.org/simple, https://us-python.pkg.dev/colab-wheels/public/simple/\n",
            "Requirement already satisfied: numpy in /usr/local/lib/python3.8/dist-packages (1.21.6)\n"
          ]
        }
      ],
      "source": [
        "!pip install numpy"
      ]
    },
    {
      "cell_type": "code",
      "source": [
        "!pip install opencv-python"
      ],
      "metadata": {
        "colab": {
          "base_uri": "https://localhost:8080/"
        },
        "id": "wG1j8Kcqt15o",
        "outputId": "a3baf505-b182-46ae-e607-6ae0cb874ce6"
      },
      "execution_count": null,
      "outputs": [
        {
          "output_type": "stream",
          "name": "stdout",
          "text": [
            "Looking in indexes: https://pypi.org/simple, https://us-python.pkg.dev/colab-wheels/public/simple/\n",
            "Requirement already satisfied: opencv-python in /usr/local/lib/python3.8/dist-packages (4.6.0.66)\n",
            "Requirement already satisfied: numpy>=1.17.3 in /usr/local/lib/python3.8/dist-packages (from opencv-python) (1.21.6)\n"
          ]
        }
      ]
    },
    {
      "cell_type": "code",
      "source": [
        "!pip install opencv_contrib_python"
      ],
      "metadata": {
        "colab": {
          "base_uri": "https://localhost:8080/"
        },
        "id": "qufvMTGjt5PW",
        "outputId": "8b91d273-7806-4212-c845-17f9d297fb35"
      },
      "execution_count": null,
      "outputs": [
        {
          "output_type": "stream",
          "name": "stdout",
          "text": [
            "Looking in indexes: https://pypi.org/simple, https://us-python.pkg.dev/colab-wheels/public/simple/\n",
            "Requirement already satisfied: opencv_contrib_python in /usr/local/lib/python3.8/dist-packages (4.6.0.66)\n",
            "Requirement already satisfied: numpy>=1.14.5 in /usr/local/lib/python3.8/dist-packages (from opencv_contrib_python) (1.21.6)\n"
          ]
        }
      ]
    },
    {
      "cell_type": "code",
      "source": [
        "import cv2\n",
        "import numpy as np"
      ],
      "metadata": {
        "id": "43Zeh9Opt-RF"
      },
      "execution_count": null,
      "outputs": []
    },
    {
      "cell_type": "code",
      "source": [
        "detector = cv2.CascadeClassifier(face_dection.xml')  # 載入人臉追蹤模型\n",
        "recog = cv2.face.LBPHFaceRecognizer_create()      # 啟用訓練人臉模型方法\n",
        "faces = []   # 儲存人臉位置大小的串列\n",
        "ids = []     # 記錄該人臉 id 的串列\n",
        "\n",
        "for i in range(1,31):\n",
        "    img = cv2.imread(f'face01/{i}.jpg')           # 依序開啟每一張蔡英文的照片\n",
        "    gray = cv2.cvtColor(img, cv2.COLOR_BGR2GRAY)  # 色彩轉換成黑白\n",
        "    img_np = np.array(gray,'uint8')               # 轉換成指定編碼的 numpy 陣列\n",
        "    face = detector.detectMultiScale(gray)        # 擷取人臉區域\n",
        "    for(x,y,w,h) in face:\n",
        "        faces.append(img_np[y:y+h,x:x+w])         # 記錄蔡英文人臉的位置和大小內像素的數值\n",
        "        ids.append(1)                             # 記錄蔡英文人臉對應的 id，只能是整數，都是 1 表示蔡英文的 id 為 1\n",
        "\n",
        "for i in range(1,16):\n",
        "    img = cv2.imread(f'face02/{i}.jpg')           # 依序開啟每一張川普的照片\n",
        "    gray = cv2.cvtColor(img, cv2.COLOR_BGR2GRAY)  # 色彩轉換成黑白\n",
        "    img_np = np.array(gray,'uint8')               # 轉換成指定編碼的 numpy 陣列\n",
        "    face = detector.detectMultiScale(gray)        # 擷取人臉區域\n",
        "    for(x,y,w,h) in face:\n",
        "        faces.append(img_np[y:y+h,x:x+w])         # 記錄川普人臉的位置和大小內像素的數值\n",
        "        ids.append(2)                             # 記錄川普人臉對應的 id，只能是整數，都是 2 表示川普的 id 為 2\n",
        "\n",
        "print('training...')                              # 提示開始訓練\n",
        "recog.train(faces,np.array(ids))                  # 開始訓練\n",
        "recog.save('face.yml')                            # 訓練完成儲存為 face.yml\n",
        "print('ok!')"
      ],
      "metadata": {
        "id": "U1MnCNN0uB0Y"
      },
      "execution_count": null,
      "outputs": []
    }
  ]
}